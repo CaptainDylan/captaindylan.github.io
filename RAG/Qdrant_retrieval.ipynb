{
 "cells": [
  {
   "cell_type": "markdown",
   "id": "392263ab",
   "metadata": {},
   "source": [
    "## RAG with Qdrant\n",
    "\n",
    "This notebook documents my work making a RAG application based on a dataset of book reviews.  In this case the dataset is a truncated dataset including books from the James Bond series and the Harry Potter series.\n",
    "\n",
    "Tech stack:\n",
    "* Qdrant for the embedding store, as a local file\n",
    "* sentence_transformers using model distilbert-base-nli-mean-tokens for the encoder\n",
    "* Pandas to access the review texts from a sqlite based on the id from Qdrant\n",
    "* Langchain to create prompt templates and call the LLM\n",
    "* OpenAI as the LLM\n",
    "* Also using tiktoken to ensure the token count isn't too high before the call to OpenAI\n"
   ]
  },
  {
   "cell_type": "code",
   "execution_count": 1,
   "id": "e35a5f2c",
   "metadata": {},
   "outputs": [],
   "source": [
    "from qdrant_client import models, QdrantClient\n",
    "qclient = QdrantClient(path=\"C:\\\\Users\\\\dpeters\\\\Documents\\\\Data\\\\Movies_Books\\\\embeddings\\\\\")\n",
    "\n"
   ]
  },
  {
   "cell_type": "code",
   "execution_count": 2,
   "id": "0387fde8",
   "metadata": {},
   "outputs": [
    {
     "data": {
      "text/plain": [
       "CollectionInfo(status=<CollectionStatus.GREEN: 'green'>, optimizer_status=<OptimizersStatusOneOf.OK: 'ok'>, vectors_count=None, indexed_vectors_count=0, points_count=3802, segments_count=1, config=CollectionConfig(params=CollectionParams(vectors=VectorParams(size=768, distance=<Distance.COSINE: 'Cosine'>, hnsw_config=None, quantization_config=None, on_disk=None, datatype=None, multivector_config=None), shard_number=None, sharding_method=None, replication_factor=None, write_consistency_factor=None, read_fan_out_factor=None, on_disk_payload=None, sparse_vectors=None), hnsw_config=HnswConfig(m=16, ef_construct=100, full_scan_threshold=10000, max_indexing_threads=0, on_disk=None, payload_m=None), optimizer_config=OptimizersConfig(deleted_threshold=0.2, vacuum_min_vector_number=1000, default_segment_number=0, max_segment_size=None, memmap_threshold=None, indexing_threshold=20000, flush_interval_sec=5, max_optimization_threads=1), wal_config=WalConfig(wal_capacity_mb=32, wal_segments_ahead=0), quantization_config=None, strict_mode_config=None), payload_schema={})"
      ]
     },
     "execution_count": 2,
     "metadata": {},
     "output_type": "execute_result"
    }
   ],
   "source": [
    "qclient.get_collection(collection_name=\"Books_distilbert_1_partial\")"
   ]
  },
  {
   "cell_type": "markdown",
   "id": "87bb8274",
   "metadata": {},
   "source": [
    "Here we create the model to encode the queries"
   ]
  },
  {
   "cell_type": "code",
   "execution_count": 3,
   "id": "6f7fc108",
   "metadata": {},
   "outputs": [
    {
     "data": {
      "text/plain": [
       "device(type='cpu')"
      ]
     },
     "execution_count": 3,
     "metadata": {},
     "output_type": "execute_result"
    }
   ],
   "source": [
    "from sentence_transformers import SentenceTransformer\n",
    "model = SentenceTransformer('distilbert-base-nli-mean-tokens')\n",
    "#model.to(\"cuda:0\")\n",
    "model.device"
   ]
  },
  {
   "cell_type": "code",
   "execution_count": 4,
   "id": "2a88ebf8",
   "metadata": {},
   "outputs": [],
   "source": [
    "query_vector = model.encode(\"Who is James Bonds' biggest nemesis?\")\n",
    "hits = qclient.query_points(\n",
    "   collection_name=\"Books_distilbert_1_partial\",\n",
    "   query=query_vector,\n",
    "   limit=15\n",
    ")"
   ]
  },
  {
   "cell_type": "code",
   "execution_count": 5,
   "id": "318fc022",
   "metadata": {},
   "outputs": [
    {
     "data": {
      "text/plain": [
       "QueryResponse(points=[ScoredPoint(id=991071499, version=0, score=0.6845826550583209, payload={'book_id': 3762}, vector=None, shard_key=None, order_value=None), ScoredPoint(id=9440370, version=0, score=0.6785884070676913, payload={'book_id': 177193}, vector=None, shard_key=None, order_value=None), ScoredPoint(id=2678579974, version=0, score=0.6750211140601249, payload={'book_id': 3763}, vector=None, shard_key=None, order_value=None), ScoredPoint(id=974944422, version=0, score=0.6664279536227815, payload={'book_id': 18780375}, vector=None, shard_key=None, order_value=None), ScoredPoint(id=135113126, version=0, score=0.6650838003984122, payload={'book_id': 3761}, vector=None, shard_key=None, order_value=None), ScoredPoint(id=956890387, version=0, score=0.6428104369854029, payload={'book_id': 1}, vector=None, shard_key=None, order_value=None), ScoredPoint(id=94261343, version=0, score=0.6360902476260423, payload={'book_id': 3761}, vector=None, shard_key=None, order_value=None), ScoredPoint(id=2018638560, version=0, score=0.6358957530173737, payload={'book_id': 18780375}, vector=None, shard_key=None, order_value=None), ScoredPoint(id=1235845077, version=0, score=0.6342567807876334, payload={'book_id': 177194}, vector=None, shard_key=None, order_value=None), ScoredPoint(id=1292853721, version=0, score=0.6255894181633531, payload={'book_id': 3759}, vector=None, shard_key=None, order_value=None), ScoredPoint(id=2324277797, version=0, score=0.624913270847646, payload={'book_id': 3762}, vector=None, shard_key=None, order_value=None), ScoredPoint(id=2031306485, version=0, score=0.6208722854706059, payload={'book_id': 3763}, vector=None, shard_key=None, order_value=None), ScoredPoint(id=2195574181, version=0, score=0.6206615239838735, payload={'book_id': 3762}, vector=None, shard_key=None, order_value=None), ScoredPoint(id=970169375, version=0, score=0.6206039941327451, payload={'book_id': 3758}, vector=None, shard_key=None, order_value=None), ScoredPoint(id=208009817, version=0, score=0.6200251354202083, payload={'book_id': 3750}, vector=None, shard_key=None, order_value=None)])"
      ]
     },
     "execution_count": 5,
     "metadata": {},
     "output_type": "execute_result"
    }
   ],
   "source": [
    "hits"
   ]
  },
  {
   "cell_type": "code",
   "execution_count": 6,
   "id": "9162870d",
   "metadata": {},
   "outputs": [],
   "source": [
    "review_ids = [sp.id for sp in hits.points]"
   ]
  },
  {
   "cell_type": "code",
   "execution_count": 7,
   "id": "aaac4ecd",
   "metadata": {},
   "outputs": [
    {
     "data": {
      "text/plain": [
       "[991071499,\n",
       " 9440370,\n",
       " 2678579974,\n",
       " 974944422,\n",
       " 135113126,\n",
       " 956890387,\n",
       " 94261343,\n",
       " 2018638560,\n",
       " 1235845077,\n",
       " 1292853721,\n",
       " 2324277797,\n",
       " 2031306485,\n",
       " 2195574181,\n",
       " 970169375,\n",
       " 208009817]"
      ]
     },
     "execution_count": 7,
     "metadata": {},
     "output_type": "execute_result"
    }
   ],
   "source": [
    "review_ids"
   ]
  },
  {
   "cell_type": "markdown",
   "id": "e3e9b689",
   "metadata": {},
   "source": [
    "Now that we have the review id's we can retrieve them from the sqlite db"
   ]
  },
  {
   "cell_type": "code",
   "execution_count": 8,
   "id": "697a8941",
   "metadata": {},
   "outputs": [],
   "source": [
    "import sqlite3\n",
    "import pandas as pd"
   ]
  },
  {
   "cell_type": "code",
   "execution_count": 11,
   "id": "1199f8be",
   "metadata": {
    "scrolled": true
   },
   "outputs": [
    {
     "data": {
      "text/html": [
       "<div>\n",
       "<style scoped>\n",
       "    .dataframe tbody tr th:only-of-type {\n",
       "        vertical-align: middle;\n",
       "    }\n",
       "\n",
       "    .dataframe tbody tr th {\n",
       "        vertical-align: top;\n",
       "    }\n",
       "\n",
       "    .dataframe thead th {\n",
       "        text-align: right;\n",
       "    }\n",
       "</style>\n",
       "<table border=\"1\" class=\"dataframe\">\n",
       "  <thead>\n",
       "    <tr style=\"text-align: right;\">\n",
       "      <th></th>\n",
       "      <th>book_id</th>\n",
       "      <th>review_id</th>\n",
       "      <th>rating</th>\n",
       "      <th>review_text</th>\n",
       "      <th>language</th>\n",
       "      <th>id</th>\n",
       "      <th>primary_topic_id</th>\n",
       "      <th>primary_topic_prob</th>\n",
       "      <th>rating_numeric</th>\n",
       "    </tr>\n",
       "  </thead>\n",
       "  <tbody>\n",
       "    <tr>\n",
       "      <th>0</th>\n",
       "      <td>1</td>\n",
       "      <td>956890387</td>\n",
       "      <td>it was amazing</td>\n",
       "      <td>Im yet to mention one of the most important ch...</td>\n",
       "      <td>en</td>\n",
       "      <td>177959</td>\n",
       "      <td>16.0</td>\n",
       "      <td>0.358908</td>\n",
       "      <td>5.0</td>\n",
       "    </tr>\n",
       "    <tr>\n",
       "      <th>1</th>\n",
       "      <td>3750</td>\n",
       "      <td>208009817</td>\n",
       "      <td>it was amazing</td>\n",
       "      <td>* The third Bond book.* And far and away the b...</td>\n",
       "      <td>en</td>\n",
       "      <td>189997</td>\n",
       "      <td>24.0</td>\n",
       "      <td>0.344065</td>\n",
       "      <td>5.0</td>\n",
       "    </tr>\n",
       "    <tr>\n",
       "      <th>2</th>\n",
       "      <td>3758</td>\n",
       "      <td>970169375</td>\n",
       "      <td>did not like it</td>\n",
       "      <td>\"Say what you like about James Bond,\" my ex-hu...</td>\n",
       "      <td>en</td>\n",
       "      <td>91136</td>\n",
       "      <td>16.0</td>\n",
       "      <td>0.558882</td>\n",
       "      <td>1.0</td>\n",
       "    </tr>\n",
       "    <tr>\n",
       "      <th>3</th>\n",
       "      <td>3759</td>\n",
       "      <td>1292853721</td>\n",
       "      <td>it was ok</td>\n",
       "      <td>My first Bond novel, and very likely my last. ...</td>\n",
       "      <td>en</td>\n",
       "      <td>202822</td>\n",
       "      <td>20.0</td>\n",
       "      <td>0.498595</td>\n",
       "      <td>2.0</td>\n",
       "    </tr>\n",
       "    <tr>\n",
       "      <th>4</th>\n",
       "      <td>3761</td>\n",
       "      <td>135113126</td>\n",
       "      <td>it was amazing</td>\n",
       "      <td>There are no other 007 films quite like this o...</td>\n",
       "      <td>en</td>\n",
       "      <td>166134</td>\n",
       "      <td>24.0</td>\n",
       "      <td>0.791107</td>\n",
       "      <td>5.0</td>\n",
       "    </tr>\n",
       "  </tbody>\n",
       "</table>\n",
       "</div>"
      ],
      "text/plain": [
       "   book_id   review_id           rating  \\\n",
       "0        1   956890387   it was amazing   \n",
       "1     3750   208009817   it was amazing   \n",
       "2     3758   970169375  did not like it   \n",
       "3     3759  1292853721        it was ok   \n",
       "4     3761   135113126   it was amazing   \n",
       "\n",
       "                                         review_text language      id  \\\n",
       "0  Im yet to mention one of the most important ch...       en  177959   \n",
       "1  * The third Bond book.* And far and away the b...       en  189997   \n",
       "2  \"Say what you like about James Bond,\" my ex-hu...       en   91136   \n",
       "3  My first Bond novel, and very likely my last. ...       en  202822   \n",
       "4  There are no other 007 films quite like this o...       en  166134   \n",
       "\n",
       "   primary_topic_id  primary_topic_prob  rating_numeric  \n",
       "0              16.0            0.358908             5.0  \n",
       "1              24.0            0.344065             5.0  \n",
       "2              16.0            0.558882             1.0  \n",
       "3              20.0            0.498595             2.0  \n",
       "4              24.0            0.791107             5.0  "
      ]
     },
     "execution_count": 11,
     "metadata": {},
     "output_type": "execute_result"
    }
   ],
   "source": [
    "con = sqlite3.connect(\"../../../../data/Movies_Books/reviews_clean.sqlite3\")\n",
    "matches = pd.read_sql_query(\"SELECT * from book_reviews_cleaned where review_id IN (\" + \",\".join([str(x) for x in review_ids]) + \")\", con)\n",
    "\n",
    "matches['book_id'] = matches['book_id'].astype(int)\n",
    "matches.head()"
   ]
  },
  {
   "cell_type": "code",
   "execution_count": 12,
   "id": "d4561ee7",
   "metadata": {},
   "outputs": [],
   "source": [
    "all_review = matches[\"review_text\"].str.cat(sep=\"\\n\\nNew Review\\n\\n\")"
   ]
  },
  {
   "cell_type": "code",
   "execution_count": 13,
   "id": "9aa3865d",
   "metadata": {},
   "outputs": [
    {
     "data": {
      "text/plain": [
       "'Im yet to mention one of the most important characters in this series in a review. Im, of course, talking about Severus Snape.Severus, the unsung hero.Severus, who sacrificed his own soul.Severus, who loved another more than life itself.Severus, the half-blood prince- the truth about his character was, and will likely always be, one of the most surprising twists Ive ever read in fiction. The set up is all in this book. \\n\\nNew Review\\n\\n* The third Bond book.* And far and away the best of the three. Tense, exciting; cards and spycraft. Always hard to believe when such an excellent book is turned into such a dismal movie.* Hugo Drax is the most fully realized villain, and the most frightening. Le Chiffre was a bit pedestrian, Mr. Big little more than a criminal; Drax is highly neurotic, yet a patriot, motivated by vengeance and national pride. He comes off as Bond\\'s first truly worthy foe.* Fleming devotes the first third to a card game in which Bond must cheat a cheater, and during which the author deftly lays his foundation for the real battle to come. The game itself is even better than the one in Casino Royale, and infinitely more personal.* Interestingly, Bond has yet to kill his nemesis face to face. In fact, only once can he be said to kill him at all. I wonder how that compares to other similar novels both modern and contemporary.* And as for \"getting the girl,\" well, he hasn\\'t had a lot of luck there, either. One commits suicide and another one runs off to get married to someone else.* These aren\\'t formula books, which must be one reason they continue to be so popular.* The eleventh Bond movie (Roger Moore).* No relation to the book, other than the presence of a secret agent named Bond and a character named Drax.* Everybody\\'s least favorite Bond movie, right? An opinion I shared at the time and for years afterward (as you can see from my comments above). Seeing it again, though, I had the same reaction I have to most Bond films: it has good moments and stupid moments, and (because the whole series takes place on some other-Earth where someone always possesses technology far in advance of our own) not even the battle in space fazed me. Hope, as they say, springs eternal, and I always have to fight with my brain at the beginning of a Bond movie, but, when I\\'m lucky, after a half hour or so, my brain shuts down and I just sit back and watch all the pretty colors. I was lucky this time, so I rather enjoyed it.* I have this image of the screenwriters slapping themselves on the back and high-fiving each other when they somehow manage to work in a scene from the book. They got one in this time: when Bond and \"a girl\" are trapped under the shuttle just before take off. At least Drax actually admits that his attempts to kill Bond (he, like most Bond villains, is obviously a fan of the Batman TV series) have more to do with amusement than functional execution.\\n\\nNew Review\\n\\n\"Say what you like about James Bond,\" my ex-husband once said, \"the guy\\'s got balls.\"I reminded him that things could well have worked out differently.\\n\\nNew Review\\n\\nMy first Bond novel, and very likely my last. Even by the standards of the 1950s, the racism, misogyny and homophobia was hard to stomach. \\n\\nNew Review\\n\\nThere are no other 007 films quite like this one. Not only is James Bond facing off with real ramifications from the events of the previous chapter \"On Her Majesty\\'s Secret Service,\" he is in danger of losing his job and will to live. In a final chance, he winds up in position to gain the revenge he rightfully relishes and the ending is quite satisfying for his character but open-ended for all of us. Definitely a page-turner and must-read as James Bond has a rematch with his arch-nemesis, his Moriarty, Ernst Stavro Blofeld.\\n\\nNew Review\\n\\nIn the later James Bond books, Fleming carried on the story of Bond\\'s struggles against his nemesis Blofeld. This book marks the final showdown between the pair and is a fitting end to a great rivalry of equals, one in which the advantage had switched back and forth between the two adversaries over the course of the previous novels. Despite the ultimate conclusion being something of a disappointment, that doesn\\'t take away from a great novel, and the two great characters that make it.\\n\\nNew Review\\n\\nThis was my first James Bond novel; I am not impressed. He isn\\'t charming he\\'s manipulative and creepy and gross. \\n\\nNew Review\\n\\nJames Bond\\'s darkest, most haunting chapter. The ending left me speechless. Powerful. Biting. Mortifying.\\n\\nNew Review\\n\\nI can\\'t remember whether this was the first one in which Bond is described as Scottish (at least in part), but that was somewhat endearing. Still misogynist, Bond is more remarkable as someone who is confident, often competent, but still capable of making mistakes. This is perhaps the saddest of the Bond books, not simply because of Tracy\\'s sad life but also because of the melancholy end, especially as it\\'s one of those rare times when he\\'s not hyperaware. A +3. effort.\\n\\nNew Review\\n\\nOf all the Ian Fleming James Bond novels this is probably the one that has aged the worst. The racial elements of this book, and there are plenty, feel, at best, of their time and an otherwise fun plot and potentially intriguing rouges gallery of bad guys are defanged by stereotypes and man-splaining.\\n\\nNew Review\\n\\nanother great classic Bond.from a very different era. and very different from the movie version with the same title\\n\\nNew Review\\n\\nThe last bond novel. We follow James as he attempts to make right for is recent mistakes and weakness hile simultaneously trying to strive at becoming the kind of man he used to be. The only disappointing thing about this book is that it feels as though Bond may never truly regain the part of him that he\\'s lost. A thoughtful if vaguely disappointing end to a fantastic series.\\n\\nNew Review\\n\\nThis is one of Ian Fleming\\'s better efforts. It ditches some of the high camp of \\'Goldfinger\\' but keeps the imagination and fantasy element of \\'Dr. No\\' as James Bond meets a brand new foe in the organization known as S.P.E.C.T.R.E. \\'Thunderball\\' is S.P.E.C.T.R.E.\\'s debut appearance in the novels, shadowy, mysterious, and populated with a ragtag collection of the world\\'s baddies. They\\'re the best of the worst, an \"Expendables\" of misfits that Bond has to take on with the help of Felix Leiter and the United States Navy. What results is a fun little adventure that ends in one of the biggest battles Bond has ever participated in, and the bonus is that it\\'s underwater. After all, what\\'s better than aquamen impaling each other with spears at the bottom of the sea? \\n\\nNew Review\\n\\nAlright I will admit it I\\'m a James Bond fan, esp. a Sean Connery Bond fan. But the Bond of the films and the Bond of the books is a different man. He is much more Spy, and much less Action Hero in the book. And often it seems like he is just lucky instead of \"The Best Spy in the World.\"\\n\\nNew Review\\n\\nYou can never go wrong with one of Ian Fleming\\'s originals. This one, in particular, is probably one of my faves.'"
      ]
     },
     "execution_count": 13,
     "metadata": {},
     "output_type": "execute_result"
    }
   ],
   "source": [
    "all_review"
   ]
  },
  {
   "cell_type": "markdown",
   "id": "56ac347a",
   "metadata": {},
   "source": [
    "LLM section"
   ]
  },
  {
   "cell_type": "code",
   "execution_count": 14,
   "id": "19716643",
   "metadata": {},
   "outputs": [
    {
     "name": "stderr",
     "output_type": "stream",
     "text": [
      "C:\\Users\\dpeters\\.conda\\envs\\langchain\\Lib\\site-packages\\deeplake\\util\\check_latest_version.py:32: UserWarning: A newer version of deeplake (4.1.14) is available. It's recommended that you update to the latest version using `pip install -U deeplake`.\n",
      "  warnings.warn(\n"
     ]
    }
   ],
   "source": [
    "from langchain.embeddings.openai import OpenAIEmbeddings\n",
    "from langchain.vectorstores import DeepLake\n",
    "from langchain.text_splitter import CharacterTextSplitter\n",
    "from langchain import OpenAI\n",
    "from langchain.document_loaders import SeleniumURLLoader\n",
    "from langchain import PromptTemplate\n",
    "import tiktoken\n",
    "llm_model_name = \"gpt-3.5-turbo-instruct\"\n",
    "encoding = tiktoken.encoding_for_model(llm_model_name)\n"
   ]
  },
  {
   "cell_type": "code",
   "execution_count": 15,
   "id": "1cc4ee49",
   "metadata": {},
   "outputs": [],
   "source": [
    "template = \"\"\"You are an expert chatbot that answers questions about books and movies.\n",
    "\n",
    "You know the following context information.\n",
    "\n",
    "{chunks_formatted}\n",
    "\n",
    "Answer to the following question from a customer. Use only information from the previous context information. Do not invent stuff.\n",
    "\n",
    "Question: {query}\n",
    "\n",
    "Answer:\"\"\"\n",
    "\n",
    "prompt = PromptTemplate(\n",
    "    input_variables=[\"chunks_formatted\", \"query\"],\n",
    "    template=template,\n",
    ")"
   ]
  },
  {
   "cell_type": "markdown",
   "id": "a96dac82",
   "metadata": {},
   "source": [
    "Now we take the query from above and add it to the prompt template, including the texts of the reviews.  Then we call the OpenAI llm with the prompt"
   ]
  },
  {
   "cell_type": "code",
   "execution_count": 16,
   "id": "bcd8b492",
   "metadata": {},
   "outputs": [
    {
     "name": "stderr",
     "output_type": "stream",
     "text": [
      "C:\\Users\\dpeters\\AppData\\Local\\Temp\\ipykernel_47240\\3844839822.py:5: LangChainDeprecationWarning: The class `OpenAI` was deprecated in LangChain 0.0.10 and will be removed in 1.0. An updated version of the class exists in the :class:`~langchain-openai package and should be used instead. To use it run `pip install -U :class:`~langchain-openai` and import as `from :class:`~langchain_openai import OpenAI``.\n",
      "  llm = OpenAI(model=llm_model_name, temperature=0)\n",
      "C:\\Users\\dpeters\\AppData\\Local\\Temp\\ipykernel_47240\\3844839822.py:6: LangChainDeprecationWarning: The method `BaseLLM.__call__` was deprecated in langchain-core 0.1.7 and will be removed in 1.0. Use :meth:`~invoke` instead.\n",
      "  answer = llm(prompt_formatted)\n"
     ]
    },
    {
     "name": "stdout",
     "output_type": "stream",
     "text": [
      " James Bond's biggest nemesis is Ernst Stavro Blofeld, who is described as his Moriarty and arch-nemesis in the later James Bond books.\n"
     ]
    }
   ],
   "source": [
    "query = \"Who is James Bonds' biggest nemesis?\"\n",
    "prompt_formatted = prompt.format(chunks_formatted=all_review, query=query)\n",
    "\n",
    "# generate answer\n",
    "llm = OpenAI(model=llm_model_name, temperature=0)\n",
    "answer = llm(prompt_formatted)\n",
    "print(answer)"
   ]
  },
  {
   "cell_type": "markdown",
   "id": "6cd713ce",
   "metadata": {},
   "source": [
    "Not bad!  Now we can write a function that takes the query and does all the steps"
   ]
  },
  {
   "cell_type": "code",
   "execution_count": 17,
   "id": "c79028d7",
   "metadata": {},
   "outputs": [],
   "source": [
    "def GetAnswerFromBook(query: str):\n",
    "    num_matches = 15\n",
    "    max_tokens = 4096 - 256 - len(encoding.encode(prompt.template)) # save some for completion\n",
    "    hits = qclient.query_points(\n",
    "    collection_name=\"Books_distilbert_1_partial\",\n",
    "    query=model.encode(query),\n",
    "    limit=num_matches  # Return 10 closest points\n",
    "    )\n",
    "    review_ids = [sp.id for sp in hits.points]\n",
    "    matches = pd.read_sql_query(\"SELECT * from book_reviews_cleaned where review_id IN (\" + \",\".join([str(x) for x in review_ids]) + \")\", con)\n",
    "    all_review = matches[\"review_text\"].str.cat(sep=\"\\n\\nNew Review\\n\\n\")\n",
    "    num_tokens = len(encoding.encode(all_review))\n",
    "    num_matches = matches.count()[0]\n",
    "\n",
    "    while (num_tokens > max_tokens and matches.count()[0] > 1):\n",
    "        num_matches -= 1\n",
    "        all_review = matches[\"review_text\"][0:num_matches].str.cat(sep=\"\\n\\nNew Review\\n\\n\")\n",
    "        num_tokens = len(encoding.encode(all_review))\n",
    "    \n",
    "    prompt_formatted = prompt.format(chunks_formatted=all_review, query=query)\n",
    "    answer = llm(prompt_formatted)\n",
    "    return answer\n",
    "\n",
    "    "
   ]
  },
  {
   "cell_type": "code",
   "execution_count": 60,
   "id": "8e7dfee7",
   "metadata": {},
   "outputs": [
    {
     "data": {
      "text/plain": [
       "\" Harry Potter's biggest nemesis is Voldemort, the dark wizard who killed his parents and is trying to kill him.\""
      ]
     },
     "execution_count": 60,
     "metadata": {},
     "output_type": "execute_result"
    }
   ],
   "source": [
    "GetAnswerFromBook(\"Who is Harry Potter's biggest nemesis?\")"
   ]
  },
  {
   "cell_type": "code",
   "execution_count": 61,
   "id": "0d13b6f0",
   "metadata": {},
   "outputs": [
    {
     "data": {
      "text/plain": [
       "\" Hermione is a character in the Harry Potter series, known for her intelligence and bravery. She is a close friend of Harry and Ron, and is often involved in important plot points, such as discovering Rita Skeeter's true identity and starting the organization SPEW. She is also a member of Dumbledore's Army and plays a crucial role in the fight against Voldemort.\""
      ]
     },
     "execution_count": 61,
     "metadata": {},
     "output_type": "execute_result"
    }
   ],
   "source": [
    "GetAnswerFromBook(\"Who is Hermione?\")"
   ]
  },
  {
   "cell_type": "code",
   "execution_count": 62,
   "id": "b96cfd97",
   "metadata": {},
   "outputs": [
    {
     "data": {
      "text/plain": [
       "' The main characters in James Bond books other than Bond include M, Moneypenny, and various villains such as Le Chiffre and Mr. Big. In \"The Spy Who Loved Me,\" the protagonist is a woman named Viv.'"
      ]
     },
     "execution_count": 62,
     "metadata": {},
     "output_type": "execute_result"
    }
   ],
   "source": [
    "GetAnswerFromBook(\"Who are the main characters in James Bond books other than Bond?\")"
   ]
  },
  {
   "cell_type": "code",
   "execution_count": 43,
   "id": "6bcdc76e",
   "metadata": {},
   "outputs": [
    {
     "data": {
      "text/plain": [
       "'You are an expert chatbot that answers questions about books and movies.\\n\\nYou know the following context information.\\n\\n{chunks_formatted}\\n\\nAnswer to the following question from a customer. Use only information from the previous context information. Do not invent stuff.\\n\\nQuestion: {query}\\n\\nAnswer:'"
      ]
     },
     "execution_count": 43,
     "metadata": {},
     "output_type": "execute_result"
    }
   ],
   "source": [
    "prompt.template"
   ]
  },
  {
   "cell_type": "markdown",
   "id": "0c52285d",
   "metadata": {},
   "source": [
    "Still to do: redo the review embeddings with chunking; trying different embedding models; tweak the prompt"
   ]
  },
  {
   "cell_type": "code",
   "execution_count": null,
   "id": "5f6575e1",
   "metadata": {},
   "outputs": [],
   "source": []
  }
 ],
 "metadata": {
  "kernelspec": {
   "display_name": "Python [conda env:.conda-langchain]",
   "language": "python",
   "name": "conda-env-.conda-langchain-py"
  },
  "language_info": {
   "codemirror_mode": {
    "name": "ipython",
    "version": 3
   },
   "file_extension": ".py",
   "mimetype": "text/x-python",
   "name": "python",
   "nbconvert_exporter": "python",
   "pygments_lexer": "ipython3",
   "version": "3.11.5"
  }
 },
 "nbformat": 4,
 "nbformat_minor": 5
}
